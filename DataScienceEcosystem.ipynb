{
  "metadata": {
    "kernelspec": {
      "name": "python",
      "display_name": "Python (Pyodide)",
      "language": "python"
    },
    "language_info": {
      "codemirror_mode": {
        "name": "python",
        "version": 3
      },
      "file_extension": ".py",
      "mimetype": "text/x-python",
      "name": "python",
      "nbconvert_exporter": "python",
      "pygments_lexer": "ipython3",
      "version": "3.8"
    }
  },
  "nbformat_minor": 5,
  "nbformat": 4,
  "cells": [
    {
      "id": "3cb7cf6f-34a4-4256-a4a5-898429fac3f2",
      "cell_type": "markdown",
      "source": "# Data Science Ecosystem",
      "metadata": {}
    },
    {
      "id": "49fe278a-7c0c-4127-a63c-c0d83ec85a81",
      "cell_type": "markdown",
      "source": "### This notebook introduces the data science ecosystem.",
      "metadata": {}
    },
    {
      "id": "e3137b1c-c301-4a08-ae46-877a38b409fe",
      "cell_type": "markdown",
      "source": "## __Objectives:__",
      "metadata": {}
    },
    {
      "id": "d881e004-f539-478b-925d-0bc874071c70",
      "cell_type": "markdown",
      "source": "- List of popular data sicence languages\n- List of most common data science libraries\n- List of the open source development environment data sicence tools",
      "metadata": {}
    },
    {
      "id": "c92c614b-0853-4e2c-a9d9-293046257f50",
      "cell_type": "markdown",
      "source": "#### Some of the popular programming languages used in Data Science are:",
      "metadata": {}
    },
    {
      "id": "3e5beb9a-97a4-467a-b53e-3708366466ff",
      "cell_type": "markdown",
      "source": "1. Python\n2. SQL\n3. R\n4. Java",
      "metadata": {
        "tags": [],
        "editable": true,
        "slideshow": {
          "slide_type": ""
        }
      }
    },
    {
      "id": "cc86d911-63b3-4263-bd4f-ad3e3630ef6b",
      "cell_type": "markdown",
      "source": "#### Some of the common libraries for Data Science are: ",
      "metadata": {}
    },
    {
      "id": "a7abe88b-00b2-482f-9d25-0c44020f9434",
      "cell_type": "markdown",
      "source": "1. Pandas\n2. Numpy\n3. Matplotlib\n4. Scikitlearn",
      "metadata": {}
    },
    {
      "id": "2eb79045-6de6-4061-8109-b1efd932c88d",
      "cell_type": "markdown",
      "source": "|Data Science Tools|\n|------------------|\n|1. Jupyter Notebook|\n|2. RStudio|\n|3. Apache Zeppelin|",
      "metadata": {}
    },
    {
      "id": "485be622-ce17-41a1-8956-d1800ced409e",
      "cell_type": "markdown",
      "source": "### Evaluations of arithmetic operations in Python are shown below.",
      "metadata": {}
    },
    {
      "id": "06259e4f-df15-41ce-bfd0-e136fb5369bc",
      "cell_type": "markdown",
      "source": "##### Simple arithmetic operations for multiplication and addition:",
      "metadata": {}
    },
    {
      "id": "ca79dc28-15bd-4127-ab4e-5e70963ae6be",
      "cell_type": "code",
      "source": "(3*4)+5",
      "metadata": {
        "trusted": true,
        "tags": [],
        "editable": true,
        "slideshow": {
          "slide_type": ""
        }
      },
      "outputs": [
        {
          "execution_count": 1,
          "output_type": "execute_result",
          "data": {
            "text/plain": "17"
          },
          "metadata": {}
        }
      ],
      "execution_count": 1
    },
    {
      "id": "04a61640-c1b5-4c10-985f-e96d9ea13944",
      "cell_type": "markdown",
      "source": "##### This will convert 200 minutes to hours by dividing by 60. ",
      "metadata": {}
    },
    {
      "id": "51a582e0-8b9d-4166-9cbe-300ba777438e",
      "cell_type": "code",
      "source": "200/60",
      "metadata": {
        "trusted": true
      },
      "outputs": [
        {
          "execution_count": 3,
          "output_type": "execute_result",
          "data": {
            "text/plain": "3.3333333333333335"
          },
          "metadata": {}
        }
      ],
      "execution_count": 3
    },
    {
      "id": "109a440f-55d8-48a3-a4fe-f246abf34ce9",
      "cell_type": "markdown",
      "source": "## Author\n##### Muhammad Hassan",
      "metadata": {}
    },
    {
      "id": "fe82fef8-4885-40e6-b1ed-c2c7d1c9e4d4",
      "cell_type": "code",
      "source": "",
      "metadata": {
        "trusted": true
      },
      "outputs": [],
      "execution_count": null
    }
  ]
}